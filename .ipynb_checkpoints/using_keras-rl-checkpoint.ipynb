{
 "cells": [
  {
   "cell_type": "code",
   "execution_count": 1,
   "id": "9252e84a-980b-481a-8f9a-4420a1c4b41c",
   "metadata": {},
   "outputs": [
    {
     "name": "stdout",
     "output_type": "stream",
     "text": [
      "Python: 3.9.6 (tags/v3.9.6:db3ff76, Jun 28 2021, 15:26:21) [MSC v.1929 64 bit (AMD64)]\n",
      "Tensorflow version: 2.6.2\n",
      "Keras version: 2.6.0\n"
     ]
    }
   ],
   "source": [
    "import numpy as np\n",
    "import gym\n",
    "import random\n",
    "import sys\n",
    "\n",
    "import tensorflow as tf\n",
    "from tensorflow import keras\n",
    "from tensorflow.keras import Sequential\n",
    "from tensorflow.keras.layers import Dense, Activation, Flatten, Embedding, Reshape\n",
    "from tensorflow.keras.optimizers import Adam\n",
    "\n",
    "from rl.agents.dqn import DQNAgent\n",
    "from rl.policy import EpsGreedyQPolicy\n",
    "from rl.memory import SequentialMemory\n",
    "\n",
    "\n",
    "print(\"Python: \"+str(sys.version))\n",
    "print(\"Tensorflow version: \"+tf.__version__)\n",
    "print(\"Keras version: \"+tf.keras.__version__)\n"
   ]
  },
  {
   "cell_type": "code",
   "execution_count": 2,
   "id": "2d3a3d2e-587c-4d54-b952-c8d3c6611eb1",
   "metadata": {},
   "outputs": [
    {
     "name": "stdout",
     "output_type": "stream",
     "text": [
      "+---------+\n",
      "|R: | : :G|\n",
      "| : | : : |\n",
      "| : : : : |\n",
      "| | : | : |\n",
      "|\u001b[34;1m\u001b[43mY\u001b[0m\u001b[0m| : |\u001b[35mB\u001b[0m: |\n",
      "+---------+\n",
      "\n"
     ]
    }
   ],
   "source": [
    "ENV_NAME = \"Taxi-v3\"\n",
    "env = gym.make(ENV_NAME)\n",
    "env.render()"
   ]
  },
  {
   "cell_type": "code",
   "execution_count": 3,
   "id": "c5fdb72e-bd0a-41d5-8879-a7158b1f8621",
   "metadata": {},
   "outputs": [
    {
     "name": "stdout",
     "output_type": "stream",
     "text": [
      "Number of actions: 6\n",
      "Number of states: 500\n"
     ]
    }
   ],
   "source": [
    "print(\"Number of actions: %d\" % env.action_space.n)\n",
    "print(\"Number of states: %d\" % env.observation_space.n)"
   ]
  },
  {
   "cell_type": "code",
   "execution_count": 4,
   "id": "0a319b74-40e9-4c45-b44a-bf8a95a7b3d7",
   "metadata": {},
   "outputs": [],
   "source": [
    "action_size = env.action_space.n\n",
    "state_size = env.observation_space.n"
   ]
  },
  {
   "cell_type": "code",
   "execution_count": 5,
   "id": "d9a68a0a-e46f-447c-878f-5e68f3b9e1b5",
   "metadata": {},
   "outputs": [
    {
     "data": {
      "text/plain": [
       "[123]"
      ]
     },
     "execution_count": 5,
     "metadata": {},
     "output_type": "execute_result"
    }
   ],
   "source": [
    "np.random.seed(123)\n",
    "env.seed(123)"
   ]
  },
  {
   "cell_type": "code",
   "execution_count": 6,
   "id": "9d5f972b-f998-4baa-ab70-f100d5c2a96e",
   "metadata": {},
   "outputs": [
    {
     "data": {
      "text/plain": [
       "351"
      ]
     },
     "execution_count": 6,
     "metadata": {},
     "output_type": "execute_result"
    }
   ],
   "source": [
    "env.reset()\n",
    "env.step(env.action_space.sample())[0]"
   ]
  },
  {
   "cell_type": "code",
   "execution_count": 12,
   "id": "15b27ec2-9e74-490e-90f5-c7d27a77bbe9",
   "metadata": {},
   "outputs": [
    {
     "name": "stdout",
     "output_type": "stream",
     "text": [
      "Model: \"sequential_3\"\n",
      "_________________________________________________________________\n",
      "Layer (type)                 Output Shape              Param #   \n",
      "=================================================================\n",
      "embedding_3 (Embedding)      (None, 1, 10)             5000      \n",
      "_________________________________________________________________\n",
      "reshape_3 (Reshape)          (None, 10)                0         \n",
      "_________________________________________________________________\n",
      "dense_4 (Dense)              (None, 50)                550       \n",
      "_________________________________________________________________\n",
      "dense_5 (Dense)              (None, 50)                2550      \n",
      "_________________________________________________________________\n",
      "dense_6 (Dense)              (None, 50)                2550      \n",
      "_________________________________________________________________\n",
      "dense_7 (Dense)              (None, 6)                 306       \n",
      "=================================================================\n",
      "Total params: 10,956\n",
      "Trainable params: 10,956\n",
      "Non-trainable params: 0\n",
      "_________________________________________________________________\n",
      "None\n"
     ]
    }
   ],
   "source": [
    "model = Sequential()\n",
    "model.add(Embedding(500, 10, input_length=1))\n",
    "model.add(Reshape((10,)))\n",
    "model.add(Dense(50, activation='relu'))\n",
    "model.add(Dense(50, activation='relu'))\n",
    "model.add(Dense(50, activation='relu'))\n",
    "model.add(Dense(action_size, activation='linear'))\n",
    "print(model.summary())"
   ]
  },
  {
   "cell_type": "code",
   "execution_count": null,
   "id": "7df262ce-fbd3-4722-86ae-4788af04cd6a",
   "metadata": {},
   "outputs": [
    {
     "name": "stdout",
     "output_type": "stream",
     "text": [
      "Training for 1000000 steps ...\n",
      "Interval 1 (0 steps performed)\n",
      "    67/100000 [..............................] - ETA: 2:33 - reward: -9.1940  "
     ]
    },
    {
     "name": "stderr",
     "output_type": "stream",
     "text": [
      "D:\\AppData\\Roaming\\Python\\Python39\\site-packages\\tensorflow\\python\\keras\\engine\\training.py:2464: UserWarning: `Model.state_updates` will be removed in a future version. This property should not be used in TensorFlow 2.0, as `updates` are applied automatically.\n",
      "  warnings.warn('`Model.state_updates` will be removed in a future version. '\n"
     ]
    },
    {
     "name": "stdout",
     "output_type": "stream",
     "text": [
      "100000/100000 [==============================] - 1091s 11ms/step - reward: -1.3166\n",
      "1023 episodes - episode_reward: -128.652 [-927.000, 15.000] - loss: 4.334 - mae: 26.184 - mean_q: -27.211 - prob: 1.000\n",
      "\n",
      "Interval 2 (100000 steps performed)\n",
      "100000/100000 [==============================] - 1227s 12ms/step - reward: -0.1982\n",
      "5290 episodes - episode_reward: -3.755 [-279.000, 15.000] - loss: 0.624 - mae: 8.384 - mean_q: 6.632 - prob: 1.000\n",
      "\n",
      "Interval 3 (200000 steps performed)\n",
      "100000/100000 [==============================] - 1353s 14ms/step - reward: 0.1555\n",
      "6768 episodes - episode_reward: 2.301 [-74.000, 15.000] - loss: 0.003 - mae: 7.359 - mean_q: 12.681 - prob: 1.000\n",
      "\n",
      "Interval 4 (300000 steps performed)\n",
      "100000/100000 [==============================] - 1231s 12ms/step - reward: 0.1579\n",
      "6771 episodes - episode_reward: 2.329 [-112.000, 15.000] - loss: 0.002 - mae: 7.358 - mean_q: 12.682 - prob: 1.000\n",
      "\n",
      "Interval 5 (400000 steps performed)\n",
      " 32000/100000 [========>.....................] - ETA: 12:16 - reward: 0.1357"
     ]
    }
   ],
   "source": [
    "memory = SequentialMemory(limit=50000, window_length=1)\n",
    "policy = EpsGreedyQPolicy()\n",
    "dqn_only_embedding = DQNAgent(model=model, nb_actions=action_size, memory=memory, nb_steps_warmup=500, target_model_update=1e-2, policy=policy)\n",
    "dqn_only_embedding.compile(Adam(learning_rate=1e-3), metrics=['mae'])\n",
    "dqn_only_embedding.fit(env, nb_steps=1000000, visualize=False, verbose=1, nb_max_episode_steps=99, log_interval=100000)"
   ]
  },
  {
   "cell_type": "code",
   "execution_count": null,
   "id": "eb192dc7-508f-4afc-9136-74e8deadfccc",
   "metadata": {},
   "outputs": [],
   "source": [
    "dqn_only_embedding.test(env, nb_episodes=5, visualize=True, nb_max_episode_steps=99)"
   ]
  },
  {
   "cell_type": "code",
   "execution_count": null,
   "id": "013c3404-35b3-4960-8e60-4c4b1b92f33a",
   "metadata": {},
   "outputs": [],
   "source": [
    "dqn_only_embedding.save_weights('dqn_{}_weights.h5f'.format(\"Taxi-v3\"), overwrite=True)"
   ]
  },
  {
   "cell_type": "code",
   "execution_count": null,
   "id": "c6460882-7edb-4f6c-a63a-cd9c14b56c71",
   "metadata": {},
   "outputs": [],
   "source": [
    "memory = SequentialMemory(limit=50000, window_length=1)\n",
    "policy = EpsGreedyQPolicy()\n",
    "dqn = DQNAgent(model=model, nb_actions=action_size, memory=memory, nb_steps_warmup=500, target_model_update=1e-2, policy=policy)\n",
    "dqn.compile(Adam(lr=1e-3), metrics=['mae'])\n",
    "dqn.fit(env, nb_steps=1000000, visualize=False, verbose=1, nb_max_episode_steps=99, log_interval=100000)"
   ]
  },
  {
   "cell_type": "code",
   "execution_count": null,
   "id": "57c138f8-6976-4ed8-9d99-fb30e236b06a",
   "metadata": {},
   "outputs": [],
   "source": [
    "dqn.test(env, nb_episodes=5, visualize=True, nb_max_episode_steps=99)"
   ]
  },
  {
   "cell_type": "code",
   "execution_count": null,
   "id": "7cc8abfb-fc1d-4a2a-9e7d-45322ae9eed4",
   "metadata": {},
   "outputs": [],
   "source": [
    "dqn.save_weights('dqn_{}_weights.h5f'.format(\"Taxi-v2\"), overwrite=True)"
   ]
  }
 ],
 "metadata": {
  "kernelspec": {
   "display_name": "Python 3",
   "language": "python",
   "name": "python3"
  },
  "language_info": {
   "codemirror_mode": {
    "name": "ipython",
    "version": 3
   },
   "file_extension": ".py",
   "mimetype": "text/x-python",
   "name": "python",
   "nbconvert_exporter": "python",
   "pygments_lexer": "ipython3",
   "version": "3.9.6"
  }
 },
 "nbformat": 4,
 "nbformat_minor": 5
}
