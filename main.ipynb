{
 "cells": [
  {
   "cell_type": "markdown",
   "id": "766fc5ce-83e9-4d44-ae41-f65d4637fd79",
   "metadata": {},
   "source": [
    "# Machine Learning Final Project: Blockudoku Double Deep Convolutional Q Learning Artificial Neural Network\n",
    "###### (the more words I put, the cooler it sounds)\n",
    "## Group 1, Bot Bot\n",
    "## Group Members: Mohammed Alnasser, Jesus Nu ̃nez, Ankit Dhingra"
   ]
  },
  {
   "cell_type": "code",
   "execution_count": 7,
   "id": "48db20c2-d68a-4370-b2e7-fa90c964fb26",
   "metadata": {},
   "outputs": [],
   "source": [
    "import numpy as np\n",
    "import pygame as pg\n",
    "from Engine import Blockudoku\n",
    "\n",
    "env = Blockudoku(69)"
   ]
  },
  {
   "cell_type": "code",
   "execution_count": 6,
   "id": "57aa8b60-d42b-4848-a268-8273aefe84a7",
   "metadata": {},
   "outputs": [],
   "source": [
    "pg.init()\n",
    "\n",
    "screen = pg.display.set_mode([game.window_size.x, game.window_size.y])\n",
    "\n",
    "running = True\n",
    "while running:\n",
    "    running = game.drawGame(screen)\n",
    "\n",
    "pg.quit()"
   ]
  },
  {
   "cell_type": "code",
   "execution_count": null,
   "id": "7c3138c8-2d26-48c7-ab93-bd0439b17d8b",
   "metadata": {},
   "outputs": [],
   "source": []
  }
 ],
 "metadata": {
  "kernelspec": {
   "display_name": "Python 3",
   "language": "python",
   "name": "python3"
  },
  "language_info": {
   "codemirror_mode": {
    "name": "ipython",
    "version": 3
   },
   "file_extension": ".py",
   "mimetype": "text/x-python",
   "name": "python",
   "nbconvert_exporter": "python",
   "pygments_lexer": "ipython3",
   "version": "3.9.6"
  }
 },
 "nbformat": 4,
 "nbformat_minor": 5
}
