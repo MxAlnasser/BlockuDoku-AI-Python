{
 "cells": [
  {
   "cell_type": "markdown",
   "id": "766fc5ce-83e9-4d44-ae41-f65d4637fd79",
   "metadata": {},
   "source": [
    "# Machine Learning Final Project: Blockudoku Double Deep Q Learning Artificial Convolutional Neural Network\n",
    "## Group 1, Bot Bot\n",
    "## Group Members: Mohammed Alnasser, Jesus Nu ̃nez, Ankit Dhingra"
   ]
  },
  {
   "cell_type": "code",
   "execution_count": null,
   "id": "48db20c2-d68a-4370-b2e7-fa90c964fb26",
   "metadata": {},
   "outputs": [],
   "source": [
    "import numpy as np\n"
   ]
  }
 ],
 "metadata": {
  "kernelspec": {
   "display_name": "Python 3",
   "language": "python",
   "name": "python3"
  },
  "language_info": {
   "codemirror_mode": {
    "name": "ipython",
    "version": 3
   },
   "file_extension": ".py",
   "mimetype": "text/x-python",
   "name": "python",
   "nbconvert_exporter": "python",
   "pygments_lexer": "ipython3",
   "version": "3.9.6"
  }
 },
 "nbformat": 4,
 "nbformat_minor": 5
}
