{
 "cells": [
  {
   "cell_type": "code",
   "execution_count": 1,
   "id": "9252e84a-980b-481a-8f9a-4420a1c4b41c",
   "metadata": {},
   "outputs": [
    {
     "name": "stdout",
     "output_type": "stream",
     "text": [
      "pygame 2.0.2 (SDL 2.0.16, Python 3.9.6)\n",
      "Hello from the pygame community. https://www.pygame.org/contribute.html\n",
      "Python: 3.9.6 (tags/v3.9.6:db3ff76, Jun 28 2021, 15:26:21) [MSC v.1929 64 bit (AMD64)]\n",
      "Tensorflow version: 2.6.2\n",
      "Keras version: 2.6.0\n"
     ]
    }
   ],
   "source": [
    "import numpy as np\n",
    "import gym\n",
    "import random\n",
    "import sys\n",
    "\n",
    "import tensorflow as tf\n",
    "from tensorflow import keras\n",
    "from tensorflow.keras import Sequential\n",
    "from tensorflow.keras.layers import Dense, Activation, Flatten, Embedding, Reshape, Input, Conv2D, MaxPool2D\n",
    "from tensorflow.keras.optimizers import Adam\n",
    "\n",
    "from rl.agents.dqn import DQNAgent\n",
    "from rl.policy import EpsGreedyQPolicy\n",
    "from rl.memory import SequentialMemory\n",
    "\n",
    "from Engine import Blockudoku\n",
    "\n",
    "print(\"Python: \"+str(sys.version))\n",
    "print(\"Tensorflow version: \"+tf.__version__)\n",
    "print(\"Keras version: \"+tf.keras.__version__)\n"
   ]
  },
  {
   "cell_type": "code",
   "execution_count": 2,
   "id": "8f34e566-5916-46ca-b6af-fee3ec142197",
   "metadata": {},
   "outputs": [],
   "source": [
    "from rl.core import Processor\n",
    "class CustomProcessor(Processor):\n",
    "    '''\n",
    "    acts as a coupling mechanism between the agent and the environment\n",
    "    '''\n",
    "\n",
    "    def process_state_batch(self, batch):\n",
    "        '''\n",
    "        Given a state batch, I want to remove the second dimension, because it's\n",
    "        useless and prevents me from feeding the tensor into my CNN\n",
    "        '''\n",
    "        return np.squeeze(batch, axis=1)"
   ]
  },
  {
   "cell_type": "code",
   "execution_count": 3,
   "id": "2d3a3d2e-587c-4d54-b952-c8d3c6611eb1",
   "metadata": {},
   "outputs": [
    {
     "name": "stdout",
     "output_type": "stream",
     "text": [
      "+-----+-----+-----+\n",
      "|\u001b[0;30;42m \u001b[0;0m: : | : : | : : |\n",
      "| : : | : : | : : |\n",
      "| : : | : : | : : |\n",
      "+-----+-----+-----+\n",
      "| : : | : : | : : |\n",
      "| : : | : : | : : |\n",
      "| : : | : : | : : |\n",
      "+-----+-----+-----+\n",
      "| : : | : : | : : |\n",
      "| : : | : : | : : |\n",
      "| : : | : : | : : |\n",
      "+-----+-----+-----+\n"
     ]
    }
   ],
   "source": [
    "env = Blockudoku()\n",
    "env.render()"
   ]
  },
  {
   "cell_type": "code",
   "execution_count": 4,
   "id": "c5fdb72e-bd0a-41d5-8879-a7158b1f8621",
   "metadata": {
    "tags": []
   },
   "outputs": [
    {
     "name": "stdout",
     "output_type": "stream",
     "text": [
      "Number of actions: 5\n",
      "Number of states: 512\n"
     ]
    }
   ],
   "source": [
    "print(\"Number of actions: %d\" % env.action_space.n)\n",
    "print(\"Number of states: %d\" % env.observation_space.n)"
   ]
  },
  {
   "cell_type": "code",
   "execution_count": 5,
   "id": "0a319b74-40e9-4c45-b44a-bf8a95a7b3d7",
   "metadata": {},
   "outputs": [],
   "source": [
    "action_size = env.action_space.n\n",
    "state_size = env.observation_space.n"
   ]
  },
  {
   "cell_type": "code",
   "execution_count": 6,
   "id": "d9a68a0a-e46f-447c-878f-5e68f3b9e1b5",
   "metadata": {},
   "outputs": [],
   "source": [
    "np.random.seed(123)\n",
    "env.seed(123)"
   ]
  },
  {
   "cell_type": "code",
   "execution_count": 7,
   "id": "9d5f972b-f998-4baa-ab70-f100d5c2a96e",
   "metadata": {},
   "outputs": [
    {
     "data": {
      "text/plain": [
       "array([[[1., 1.],\n",
       "        [0., 0.],\n",
       "        [0., 0.],\n",
       "        [0., 0.],\n",
       "        [0., 0.],\n",
       "        [0., 0.],\n",
       "        [0., 0.],\n",
       "        [0., 0.],\n",
       "        [0., 0.]],\n",
       "\n",
       "       [[1., 0.],\n",
       "        [0., 1.],\n",
       "        [0., 0.],\n",
       "        [0., 0.],\n",
       "        [0., 0.],\n",
       "        [0., 0.],\n",
       "        [0., 0.],\n",
       "        [0., 0.],\n",
       "        [0., 0.]],\n",
       "\n",
       "       [[0., 0.],\n",
       "        [0., 0.],\n",
       "        [0., 0.],\n",
       "        [0., 0.],\n",
       "        [0., 0.],\n",
       "        [0., 0.],\n",
       "        [0., 0.],\n",
       "        [0., 0.],\n",
       "        [0., 0.]],\n",
       "\n",
       "       [[0., 0.],\n",
       "        [0., 0.],\n",
       "        [0., 0.],\n",
       "        [0., 0.],\n",
       "        [0., 0.],\n",
       "        [0., 0.],\n",
       "        [0., 0.],\n",
       "        [0., 0.],\n",
       "        [0., 0.]],\n",
       "\n",
       "       [[0., 0.],\n",
       "        [0., 0.],\n",
       "        [0., 0.],\n",
       "        [0., 0.],\n",
       "        [0., 0.],\n",
       "        [0., 0.],\n",
       "        [0., 0.],\n",
       "        [0., 0.],\n",
       "        [0., 0.]],\n",
       "\n",
       "       [[0., 0.],\n",
       "        [0., 0.],\n",
       "        [0., 0.],\n",
       "        [0., 0.],\n",
       "        [0., 0.],\n",
       "        [0., 0.],\n",
       "        [0., 0.],\n",
       "        [0., 0.],\n",
       "        [0., 0.]],\n",
       "\n",
       "       [[0., 0.],\n",
       "        [0., 0.],\n",
       "        [0., 0.],\n",
       "        [0., 0.],\n",
       "        [0., 0.],\n",
       "        [0., 0.],\n",
       "        [0., 0.],\n",
       "        [0., 0.],\n",
       "        [0., 0.]],\n",
       "\n",
       "       [[0., 0.],\n",
       "        [0., 0.],\n",
       "        [0., 0.],\n",
       "        [0., 0.],\n",
       "        [0., 0.],\n",
       "        [0., 0.],\n",
       "        [0., 0.],\n",
       "        [0., 0.],\n",
       "        [0., 0.]],\n",
       "\n",
       "       [[0., 0.],\n",
       "        [0., 0.],\n",
       "        [0., 0.],\n",
       "        [0., 0.],\n",
       "        [0., 0.],\n",
       "        [0., 0.],\n",
       "        [0., 0.],\n",
       "        [0., 0.],\n",
       "        [0., 0.]]])"
      ]
     },
     "execution_count": 7,
     "metadata": {},
     "output_type": "execute_result"
    }
   ],
   "source": [
    "env.reset()\n",
    "env.step(env.action_space.sample())[0]"
   ]
  },
  {
   "cell_type": "code",
   "execution_count": 8,
   "id": "15b27ec2-9e74-490e-90f5-c7d27a77bbe9",
   "metadata": {},
   "outputs": [
    {
     "name": "stdout",
     "output_type": "stream",
     "text": [
      "Model: \"sequential\"\n",
      "_________________________________________________________________\n",
      "Layer (type)                 Output Shape              Param #   \n",
      "=================================================================\n",
      "Conv2D_layer1 (Conv2D)       (None, 9, 9, 16)          304       \n",
      "_________________________________________________________________\n",
      "max_pooling2d (MaxPooling2D) (None, 4, 4, 16)          0         \n",
      "_________________________________________________________________\n",
      "Conv2D_layer2 (Conv2D)       (None, 4, 4, 32)          4640      \n",
      "_________________________________________________________________\n",
      "max_pooling2d_1 (MaxPooling2 (None, 2, 2, 32)          0         \n",
      "_________________________________________________________________\n",
      "Dense_layer1 (Dense)         (None, 2, 2, 69)          2277      \n",
      "_________________________________________________________________\n",
      "Dense_layer2 (Dense)         (None, 2, 2, 69)          4830      \n",
      "_________________________________________________________________\n",
      "flatten (Flatten)            (None, 276)               0         \n",
      "_________________________________________________________________\n",
      "output (Dense)               (None, 5)                 1385      \n",
      "=================================================================\n",
      "Total params: 13,436\n",
      "Trainable params: 13,436\n",
      "Non-trainable params: 0\n",
      "_________________________________________________________________\n",
      "None\n"
     ]
    }
   ],
   "source": [
    "layers = [Input(shape=(env.state.shape[0], env.state.shape[1], env.state.shape[2])),\n",
    "                      Conv2D(16, 3, activation=\"relu\", padding=\"same\" , name=\"Conv2D_layer1\"),\n",
    "                      MaxPool2D(),\n",
    "                      Conv2D(32, 3, activation=\"relu\", padding=\"same\", name=\"Conv2D_layer2\"),\n",
    "                      MaxPool2D(),\n",
    "                      Dense(69, activation=\"relu\", name=\"Dense_layer1\"),\n",
    "                      Dense(69, activation=\"relu\", name=\"Dense_layer2\"),\n",
    "                      Flatten(),\n",
    "                      Dense(action_size, activation=\"linear\", name=\"output\")]\n",
    "\n",
    "\n",
    "# layers = [Input(shape=(len(env.state.flatten()),)),\n",
    "#                       Dense(69, activation=\"relu\", name=\"Dense_layer1\"),\n",
    "#                       Dense(69, activation=\"relu\", name=\"Dense_layer2\"),\n",
    "#                       Dense(action_size, activation=\"linear\", name=\"output\")]\n",
    "\n",
    "model = Sequential(layers)\n",
    "\n",
    "model.compile(loss='mse', optimizer=\"adam\")\n",
    "\n",
    "print(model.summary())"
   ]
  },
  {
   "cell_type": "code",
   "execution_count": null,
   "id": "c6460882-7edb-4f6c-a63a-cd9c14b56c71",
   "metadata": {},
   "outputs": [
    {
     "name": "stdout",
     "output_type": "stream",
     "text": [
      "Training for 1000000 steps ...\n",
      "Interval 1 (0 steps performed)\n",
      "     1/100000 [..............................] - ETA: 5:01:36 - reward: -10.0000"
     ]
    },
    {
     "name": "stderr",
     "output_type": "stream",
     "text": [
      "D:\\AppData\\Roaming\\Python\\Python39\\site-packages\\keras\\engine\\training.py:2470: UserWarning: `Model.state_updates` will be removed in a future version. This property should not be used in TensorFlow 2.0, as `updates` are applied automatically.\n",
      "  warnings.warn('`Model.state_updates` will be removed in a future version. '\n"
     ]
    },
    {
     "name": "stdout",
     "output_type": "stream",
     "text": [
      "100000/100000 [==============================] - 1167s 12ms/step - reward: -2.3319\n",
      "1010 episodes - episode_reward: -230.889 [-948.000, 6.000] - loss: 91.268 - mae: 28.536 - mean_q: 35.693\n",
      "\n",
      "Interval 2 (100000 steps performed)\n",
      "100000/100000 [==============================] - 1174s 12ms/step - reward: -5.2769\n",
      "1010 episodes - episode_reward: -522.265 [-966.000, -40.000] - loss: 154322.609 - mae: 1560.881 - mean_q: 2072.901\n",
      "\n",
      "Interval 3 (200000 steps performed)\n",
      " 26559/100000 [======>.......................] - ETA: 13:51 - reward: -6.2701"
     ]
    }
   ],
   "source": [
    "memory = SequentialMemory(limit=50000, window_length=1)\n",
    "policy = EpsGreedyQPolicy()\n",
    "dqn = DQNAgent(model=model, nb_actions=action_size, memory=memory, nb_steps_warmup=500, target_model_update=1e-2, policy=policy, processor=CustomProcessor())\n",
    "dqn.compile(Adam(learning_rate=1e-3), metrics=['mae'])\n",
    "dqn.fit(env, nb_steps=1000000, visualize=False, verbose=1, nb_max_episode_steps=99, log_interval=100000)"
   ]
  },
  {
   "cell_type": "code",
   "execution_count": null,
   "id": "57c138f8-6976-4ed8-9d99-fb30e236b06a",
   "metadata": {},
   "outputs": [],
   "source": [
    "dqn.test(env, nb_episodes=5, visualize=False, nb_max_episode_steps=99)"
   ]
  },
  {
   "cell_type": "code",
   "execution_count": null,
   "id": "7cc8abfb-fc1d-4a2a-9e7d-45322ae9eed4",
   "metadata": {},
   "outputs": [],
   "source": [
    "dqn.save_weights('dqn_{}_weights.h5f'.format(\"Blockudoku\"), overwrite=True)"
   ]
  }
 ],
 "metadata": {
  "kernelspec": {
   "display_name": "Python 3",
   "language": "python",
   "name": "python3"
  },
  "language_info": {
   "codemirror_mode": {
    "name": "ipython",
    "version": 3
   },
   "file_extension": ".py",
   "mimetype": "text/x-python",
   "name": "python",
   "nbconvert_exporter": "python",
   "pygments_lexer": "ipython3",
   "version": "3.9.6"
  }
 },
 "nbformat": 4,
 "nbformat_minor": 5
}
