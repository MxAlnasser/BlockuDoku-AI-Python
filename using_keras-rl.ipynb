{
 "cells": [
  {
   "cell_type": "code",
   "execution_count": 1,
   "id": "9252e84a-980b-481a-8f9a-4420a1c4b41c",
   "metadata": {},
   "outputs": [
    {
     "name": "stdout",
     "output_type": "stream",
     "text": [
      "pygame 2.0.2 (SDL 2.0.16, Python 3.9.6)\n",
      "Hello from the pygame community. https://www.pygame.org/contribute.html\n",
      "Python: 3.9.6 (tags/v3.9.6:db3ff76, Jun 28 2021, 15:26:21) [MSC v.1929 64 bit (AMD64)]\n",
      "Tensorflow version: 2.6.2\n",
      "Keras version: 2.6.0\n"
     ]
    }
   ],
   "source": [
    "import numpy as np\n",
    "import gym\n",
    "import random\n",
    "import sys\n",
    "\n",
    "import tensorflow as tf\n",
    "from tensorflow import keras\n",
    "from tensorflow.keras import Sequential\n",
    "from tensorflow.keras.layers import Dense, Activation, Flatten, Embedding, Reshape, Input, Conv2D, MaxPool2D\n",
    "from tensorflow.keras.optimizers import Adam\n",
    "\n",
    "from rl.agents.dqn import DQNAgent\n",
    "from rl.policy import EpsGreedyQPolicy\n",
    "from rl.memory import SequentialMemory\n",
    "\n",
    "from Engine import Blockudoku\n",
    "\n",
    "print(\"Python: \"+str(sys.version))\n",
    "print(\"Tensorflow version: \"+tf.__version__)\n",
    "print(\"Keras version: \"+tf.keras.__version__)\n"
   ]
  },
  {
   "cell_type": "code",
   "execution_count": 2,
   "id": "8f34e566-5916-46ca-b6af-fee3ec142197",
   "metadata": {},
   "outputs": [],
   "source": [
    "from rl.core import Processor\n",
    "class CustomProcessor(Processor):\n",
    "    '''\n",
    "    acts as a coupling mechanism between the agent and the environment\n",
    "    '''\n",
    "\n",
    "    def process_state_batch(self, batch):\n",
    "        '''\n",
    "        Given a state batch, I want to remove the second dimension, because it's\n",
    "        useless and prevents me from feeding the tensor into my CNN\n",
    "        '''\n",
    "        return np.squeeze(batch, axis=1)"
   ]
  },
  {
   "cell_type": "code",
   "execution_count": 3,
   "id": "2d3a3d2e-587c-4d54-b952-c8d3c6611eb1",
   "metadata": {},
   "outputs": [
    {
     "name": "stdout",
     "output_type": "stream",
     "text": [
      "+-----+-----+-----+\n",
      "| :\u001b[0;30;42m \u001b[0;0m: | : : | : : |\n",
      "|\u001b[0;30;42m \u001b[0;0m:\u001b[0;30;42m \u001b[0;0m:\u001b[0;30;42m \u001b[0;0m| : : | : : |\n",
      "| :\u001b[0;30;42m \u001b[0;0m: | : : | : : |\n",
      "+-----+-----+-----+\n",
      "| : : | : : | : : |\n",
      "| : : | : : | : : |\n",
      "| : : | : : | : : |\n",
      "+-----+-----+-----+\n",
      "| : : | : : | : : |\n",
      "| : : | : : | : : |\n",
      "| : : | : : | : : |\n",
      "+-----+-----+-----+\n"
     ]
    }
   ],
   "source": [
    "env = Blockudoku()\n",
    "env.render()"
   ]
  },
  {
   "cell_type": "code",
   "execution_count": 4,
   "id": "c5fdb72e-bd0a-41d5-8879-a7158b1f8621",
   "metadata": {
    "tags": []
   },
   "outputs": [
    {
     "name": "stdout",
     "output_type": "stream",
     "text": [
      "Number of actions: 5\n",
      "Number of states: 512\n"
     ]
    }
   ],
   "source": [
    "print(\"Number of actions: %d\" % env.action_space.n)\n",
    "print(\"Number of states: %d\" % env.observation_space.n)"
   ]
  },
  {
   "cell_type": "code",
   "execution_count": 5,
   "id": "0a319b74-40e9-4c45-b44a-bf8a95a7b3d7",
   "metadata": {},
   "outputs": [],
   "source": [
    "action_size = env.action_space.n\n",
    "state_size = env.observation_space.n"
   ]
  },
  {
   "cell_type": "code",
   "execution_count": 6,
   "id": "d9a68a0a-e46f-447c-878f-5e68f3b9e1b5",
   "metadata": {},
   "outputs": [],
   "source": [
    "np.random.seed(123)\n",
    "env.seed(123)"
   ]
  },
  {
   "cell_type": "code",
   "execution_count": 7,
   "id": "9d5f972b-f998-4baa-ab70-f100d5c2a96e",
   "metadata": {},
   "outputs": [
    {
     "data": {
      "text/plain": [
       "array([[[1., 1.],\n",
       "        [0., 0.],\n",
       "        [0., 0.],\n",
       "        [0., 0.],\n",
       "        [0., 0.],\n",
       "        [0., 0.],\n",
       "        [0., 0.],\n",
       "        [0., 0.],\n",
       "        [0., 0.]],\n",
       "\n",
       "       [[1., 0.],\n",
       "        [0., 1.],\n",
       "        [0., 0.],\n",
       "        [0., 0.],\n",
       "        [0., 0.],\n",
       "        [0., 0.],\n",
       "        [0., 0.],\n",
       "        [0., 0.],\n",
       "        [0., 0.]],\n",
       "\n",
       "       [[0., 0.],\n",
       "        [0., 0.],\n",
       "        [0., 0.],\n",
       "        [0., 0.],\n",
       "        [0., 0.],\n",
       "        [0., 0.],\n",
       "        [0., 0.],\n",
       "        [0., 0.],\n",
       "        [0., 0.]],\n",
       "\n",
       "       [[0., 0.],\n",
       "        [0., 0.],\n",
       "        [0., 0.],\n",
       "        [0., 0.],\n",
       "        [0., 0.],\n",
       "        [0., 0.],\n",
       "        [0., 0.],\n",
       "        [0., 0.],\n",
       "        [0., 0.]],\n",
       "\n",
       "       [[0., 0.],\n",
       "        [0., 0.],\n",
       "        [0., 0.],\n",
       "        [0., 0.],\n",
       "        [0., 0.],\n",
       "        [0., 0.],\n",
       "        [0., 0.],\n",
       "        [0., 0.],\n",
       "        [0., 0.]],\n",
       "\n",
       "       [[0., 0.],\n",
       "        [0., 0.],\n",
       "        [0., 0.],\n",
       "        [0., 0.],\n",
       "        [0., 0.],\n",
       "        [0., 0.],\n",
       "        [0., 0.],\n",
       "        [0., 0.],\n",
       "        [0., 0.]],\n",
       "\n",
       "       [[0., 0.],\n",
       "        [0., 0.],\n",
       "        [0., 0.],\n",
       "        [0., 0.],\n",
       "        [0., 0.],\n",
       "        [0., 0.],\n",
       "        [0., 0.],\n",
       "        [0., 0.],\n",
       "        [0., 0.]],\n",
       "\n",
       "       [[0., 0.],\n",
       "        [0., 0.],\n",
       "        [0., 0.],\n",
       "        [0., 0.],\n",
       "        [0., 0.],\n",
       "        [0., 0.],\n",
       "        [0., 0.],\n",
       "        [0., 0.],\n",
       "        [0., 0.]],\n",
       "\n",
       "       [[0., 0.],\n",
       "        [0., 0.],\n",
       "        [0., 0.],\n",
       "        [0., 0.],\n",
       "        [0., 0.],\n",
       "        [0., 0.],\n",
       "        [0., 0.],\n",
       "        [0., 0.],\n",
       "        [0., 0.]]])"
      ]
     },
     "execution_count": 7,
     "metadata": {},
     "output_type": "execute_result"
    }
   ],
   "source": [
    "env.reset()\n",
    "np.moveaxis(env.step(env.action_space.sample())[0], 2, 0)"
   ]
  },
  {
   "cell_type": "code",
   "execution_count": 8,
   "id": "15b27ec2-9e74-490e-90f5-c7d27a77bbe9",
   "metadata": {},
   "outputs": [
    {
     "name": "stdout",
     "output_type": "stream",
     "text": [
      "Model: \"sequential\"\n",
      "_________________________________________________________________\n",
      "Layer (type)                 Output Shape              Param #   \n",
      "=================================================================\n",
      "Conv2D_layer1 (Conv2D)       (None, 9, 9, 32)          608       \n",
      "_________________________________________________________________\n",
      "Conv2D_layer2 (Conv2D)       (None, 9, 9, 64)          18496     \n",
      "_________________________________________________________________\n",
      "Conv2D_layer3 (Conv2D)       (None, 9, 9, 64)          36928     \n",
      "_________________________________________________________________\n",
      "flatten (Flatten)            (None, 5184)              0         \n",
      "_________________________________________________________________\n",
      "Dense_layer1 (Dense)         (None, 200)               1037000   \n",
      "_________________________________________________________________\n",
      "output (Dense)               (None, 5)                 1005      \n",
      "=================================================================\n",
      "Total params: 1,094,037\n",
      "Trainable params: 1,094,037\n",
      "Non-trainable params: 0\n",
      "_________________________________________________________________\n",
      "None\n"
     ]
    }
   ],
   "source": [
    "layers = [Input(shape=env.state.shape),\n",
    "                      Conv2D(32, 3, activation=\"relu\", padding=\"same\" , name=\"Conv2D_layer1\"),\n",
    "                      Conv2D(64, 3, activation=\"relu\", padding=\"same\", name=\"Conv2D_layer2\"),\n",
    "                      Conv2D(64, 3, activation=\"relu\", padding=\"same\", name=\"Conv2D_layer3\"),\n",
    "                      Flatten(),\n",
    "                      Dense(200, activation=\"relu\", name=\"Dense_layer1\"),\n",
    "                      Dense(action_size, activation=\"linear\", name=\"output\")]\n",
    "\n",
    "\n",
    "# layers = [Input(shape=(len(env.state.flatten()),)),\n",
    "#                       Dense(69, activation=\"relu\", name=\"Dense_layer1\"),\n",
    "#                       Dense(69, activation=\"relu\", name=\"Dense_layer2\"),\n",
    "#                       Dense(action_size, activation=\"linear\", name=\"output\")]\n",
    "\n",
    "model = Sequential(layers)\n",
    "\n",
    "model.compile(loss=tf.keras.losses.Huber(), optimizer=\"adam\")\n",
    "\n",
    "print(model.summary())"
   ]
  },
  {
   "cell_type": "code",
   "execution_count": 10,
   "id": "c6460882-7edb-4f6c-a63a-cd9c14b56c71",
   "metadata": {},
   "outputs": [
    {
     "name": "stdout",
     "output_type": "stream",
     "text": [
      "Training for 1000000 steps ...\n",
      "Interval 1 (0 steps performed)\n"
     ]
    },
    {
     "name": "stderr",
     "output_type": "stream",
     "text": [
      "D:\\AppData\\Roaming\\Python\\Python39\\site-packages\\keras\\engine\\training.py:2470: UserWarning: `Model.state_updates` will be removed in a future version. This property should not be used in TensorFlow 2.0, as `updates` are applied automatically.\n",
      "  warnings.warn('`Model.state_updates` will be removed in a future version. '\n"
     ]
    },
    {
     "name": "stdout",
     "output_type": "stream",
     "text": [
      " 77299/100000 [======================>.......] - ETA: 15:53 - reward: -2.3588done, took 3246.322 seconds\n"
     ]
    },
    {
     "data": {
      "text/plain": [
       "<keras.callbacks.History at 0x28d95742760>"
      ]
     },
     "execution_count": 10,
     "metadata": {},
     "output_type": "execute_result"
    }
   ],
   "source": [
    "memory = SequentialMemory(limit=50000, window_length=1)\n",
    "policy = EpsGreedyQPolicy()\n",
    "dqn = DQNAgent(model=model, nb_actions=action_size, memory=memory, nb_steps_warmup=500, target_model_update=1e-2, policy=policy, enable_double_dqn=True, processor=CustomProcessor())\n",
    "dqn.compile(Adam(learning_rate=1e-3), metrics=['mae'])\n",
    "dqn.fit(env, nb_steps=1000000, visualize=False, verbose=1, nb_max_episode_steps=99, log_interval=100000)"
   ]
  },
  {
   "cell_type": "code",
   "execution_count": 11,
   "id": "57c138f8-6976-4ed8-9d99-fb30e236b06a",
   "metadata": {},
   "outputs": [
    {
     "name": "stdout",
     "output_type": "stream",
     "text": [
      "Testing for 5 episodes ...\n",
      "Episode 1: reward: -100.000, steps: 100\n",
      "Episode 2: reward: -967.000, steps: 100\n",
      "Episode 3: reward: -916.000, steps: 100\n",
      "Episode 4: reward: -100.000, steps: 100\n",
      "Episode 5: reward: -991.000, steps: 100\n"
     ]
    },
    {
     "data": {
      "text/plain": [
       "<keras.callbacks.History at 0x28d95306f70>"
      ]
     },
     "execution_count": 11,
     "metadata": {},
     "output_type": "execute_result"
    }
   ],
   "source": [
    "dqn.test(env, nb_episodes=5, visualize=True, nb_max_episode_steps=100)"
   ]
  },
  {
   "cell_type": "code",
   "execution_count": null,
   "id": "7cc8abfb-fc1d-4a2a-9e7d-45322ae9eed4",
   "metadata": {},
   "outputs": [],
   "source": [
    "dqn.save_weights('dqn_{}_weights.h5f'.format(\"BlockudokuTest\"), overwrite=True)"
   ]
  },
  {
   "cell_type": "code",
   "execution_count": null,
   "id": "5f72f144-4d56-45ef-8013-f06951999652",
   "metadata": {},
   "outputs": [],
   "source": [
    "dqn_loaded = DQNAgent(model=model, nb_actions=action_size, memory=memory, nb_steps_warmup=500, target_model_update=1e-2, policy=policy, enable_double_dqn=True, processor=CustomProcessor())\n",
    "dqn_loaded.compile(Adam(learning_rate=1e-3), metrics=['mae'])\n",
    "dqn_loaded.load_weights('dqn_{}_weights.h5f'.format(\"BlockudokuTest\"))"
   ]
  },
  {
   "cell_type": "code",
   "execution_count": null,
   "id": "0c553492-bfa7-4df3-b5de-afcdea7bfc87",
   "metadata": {},
   "outputs": [],
   "source": [
    "dqn_loaded.test(env, nb_episodes=5, visualize=False, nb_max_episode_steps=100)"
   ]
  },
  {
   "cell_type": "code",
   "execution_count": null,
   "id": "808fa92a-0e6f-43a0-a9ba-aa365e54677f",
   "metadata": {},
   "outputs": [],
   "source": []
  }
 ],
 "metadata": {
  "kernelspec": {
   "display_name": "Python 3",
   "language": "python",
   "name": "python3"
  },
  "language_info": {
   "codemirror_mode": {
    "name": "ipython",
    "version": 3
   },
   "file_extension": ".py",
   "mimetype": "text/x-python",
   "name": "python",
   "nbconvert_exporter": "python",
   "pygments_lexer": "ipython3",
   "version": "3.9.6"
  }
 },
 "nbformat": 4,
 "nbformat_minor": 5
}
